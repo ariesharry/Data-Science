{
  "nbformat": 4,
  "nbformat_minor": 0,
  "metadata": {
    "colab": {
      "provenance": [],
      "authorship_tag": "ABX9TyPoGwR9Py6iZ9s1QhEiJkPw",
      "include_colab_link": true
    },
    "kernelspec": {
      "name": "python3",
      "display_name": "Python 3"
    },
    "language_info": {
      "name": "python"
    }
  },
  "cells": [
    {
      "cell_type": "markdown",
      "metadata": {
        "id": "view-in-github",
        "colab_type": "text"
      },
      "source": [
        "<a href=\"https://colab.research.google.com/github/ariesharry/Data-Science/blob/main/Data_Analysis.ipynb\" target=\"_parent\"><img src=\"https://colab.research.google.com/assets/colab-badge.svg\" alt=\"Open In Colab\"/></a>"
      ]
    },
    {
      "cell_type": "code",
      "source": [],
      "metadata": {
        "id": "NfFDfRNlflhn"
      },
      "execution_count": null,
      "outputs": []
    },
    {
      "cell_type": "markdown",
      "source": [
        "#**Scenario:**\n",
        "Suppose you have a dataset with missing values, duplicate rows, and some inconsistent data."
      ],
      "metadata": {
        "id": "E0zESOTPfm3W"
      }
    },
    {
      "cell_type": "code",
      "execution_count": 1,
      "metadata": {
        "colab": {
          "base_uri": "https://localhost:8080/"
        },
        "id": "2SoBn9NhfSGY",
        "outputId": "94d77176-f43d-4a40-a95b-05a769cf6b2e"
      },
      "outputs": [
        {
          "output_type": "stream",
          "name": "stdout",
          "text": [
            "Original Data:\n",
            "      Name   Age           City\n",
            "0    Alice  25.0       New York\n",
            "1      Bob   NaN    Los Angeles\n",
            "2  Charlie  35.0        Chicago\n",
            "3    Alice  25.0       New York\n",
            "4      Eve  40.0  San Francisco\n",
            "5     None  50.0  San Francisco\n",
            "6    Frank   NaN    Los Angeles\n"
          ]
        }
      ],
      "source": [
        "import pandas as pd\n",
        "\n",
        "# Sample dataset\n",
        "data = {\n",
        "    'Name': ['Alice', 'Bob', 'Charlie', 'Alice', 'Eve', None, 'Frank'],\n",
        "    'Age': [25, None, 35, 25, 40, 50, None],\n",
        "    'City': ['New York', 'Los Angeles', 'Chicago', 'New York', 'San Francisco', 'San Francisco', 'Los Angeles']\n",
        "}\n",
        "\n",
        "df = pd.DataFrame(data)\n",
        "\n",
        "print(\"Original Data:\")\n",
        "print(df)\n"
      ]
    },
    {
      "cell_type": "markdown",
      "source": [
        "# 1. Handling Missing Values:\n"
      ],
      "metadata": {
        "id": "VZhBfBLpfs97"
      }
    },
    {
      "cell_type": "markdown",
      "source": [
        "You can handle missing values by either removing them or filling them with a specific value (e.g., mean, median)."
      ],
      "metadata": {
        "id": "ILmGWhlbf37O"
      }
    },
    {
      "cell_type": "code",
      "source": [
        "# Drop rows with missing values\n",
        "df_dropna = df.dropna()\n",
        "\n",
        "# Fill missing values with mean (for numerical columns)\n",
        "df_filled = df.copy()\n",
        "df_filled['Age'] = df_filled['Age'].fillna(df_filled['Age'].mean())\n"
      ],
      "metadata": {
        "id": "f2eCNrAHfu--"
      },
      "execution_count": 2,
      "outputs": []
    },
    {
      "cell_type": "code",
      "source": [
        "# Check for missing values in each column\n",
        "missing_values = df.isnull().sum()\n",
        "print(missing_values)"
      ],
      "metadata": {
        "id": "Lj8ZyCTZhJFK"
      },
      "execution_count": null,
      "outputs": []
    },
    {
      "cell_type": "code",
      "source": [
        "# Drop rows with missing values\n",
        "df_drop_rows = df.dropna()\n",
        "\n",
        "# Drop columns with missing values\n",
        "df_drop_columns = df.dropna(axis=1)"
      ],
      "metadata": {
        "id": "D9ArJcD-hMTF"
      },
      "execution_count": null,
      "outputs": []
    },
    {
      "cell_type": "markdown",
      "source": [
        "a. Fill with a Constant:"
      ],
      "metadata": {
        "id": "UffN7R7ihTbE"
      }
    },
    {
      "cell_type": "code",
      "source": [
        "df_filled_constant = df.fillna(value=0)  # Filling with 0"
      ],
      "metadata": {
        "id": "p4riEywdhQcb"
      },
      "execution_count": null,
      "outputs": []
    },
    {
      "cell_type": "markdown",
      "source": [
        "b. Forward Fill:"
      ],
      "metadata": {
        "id": "iMHSG7KohZiT"
      }
    },
    {
      "cell_type": "code",
      "source": [
        "df_filled_forward = df.fillna(method='ffill')\n"
      ],
      "metadata": {
        "id": "R2Bw_4kWhW46"
      },
      "execution_count": null,
      "outputs": []
    },
    {
      "cell_type": "code",
      "source": [],
      "metadata": {
        "id": "ncWRJgX-hoY6"
      },
      "execution_count": null,
      "outputs": []
    },
    {
      "cell_type": "markdown",
      "source": [
        "c. Backward Fill:"
      ],
      "metadata": {
        "id": "JntAjgqWhgUx"
      }
    },
    {
      "cell_type": "code",
      "source": [
        "df_filled_backward = df.fillna(method='bfill')\n"
      ],
      "metadata": {
        "id": "PpbabHDAhieq"
      },
      "execution_count": null,
      "outputs": []
    },
    {
      "cell_type": "markdown",
      "source": [
        "d. Fill with Mean, Median, or Mode:"
      ],
      "metadata": {
        "id": "lWJF-WwPhmAs"
      }
    },
    {
      "cell_type": "code",
      "source": [
        "# Fill with mean\n",
        "df['Age'] = df['Age'].fillna(df['Age'].mean())\n",
        "\n",
        "# Fill with median\n",
        "df['Age'] = df['Age'].fillna(df['Age'].median())\n",
        "\n",
        "# Fill with mode for a categorical column\n",
        "df['City'] = df['City'].fillna(df['City'].mode()[0])\n"
      ],
      "metadata": {
        "id": "85AWamwvhn-9"
      },
      "execution_count": null,
      "outputs": []
    },
    {
      "cell_type": "markdown",
      "source": [
        "#2. Removing Duplicates:"
      ],
      "metadata": {
        "id": "cZdoi4xqgQ1E"
      }
    },
    {
      "cell_type": "code",
      "source": [
        "df_no_duplicates = df.drop_duplicates()\n"
      ],
      "metadata": {
        "id": "F5PEFPvIgWSF"
      },
      "execution_count": 4,
      "outputs": []
    },
    {
      "cell_type": "code",
      "source": [],
      "metadata": {
        "id": "teKm6LC4gX0T"
      },
      "execution_count": null,
      "outputs": []
    },
    {
      "cell_type": "markdown",
      "source": [
        "#3. Standardizing Data:\n",
        "For instance, converting all string data to lowercase for consistency."
      ],
      "metadata": {
        "id": "Oq8dZkivgbMS"
      }
    },
    {
      "cell_type": "code",
      "source": [
        "df['Name'] = df['Name'].str.lower()\n",
        "df['City'] = df['City'].str.lower()\n"
      ],
      "metadata": {
        "id": "M56YIR2bgcK6"
      },
      "execution_count": 5,
      "outputs": []
    },
    {
      "cell_type": "code",
      "source": [],
      "metadata": {
        "id": "BraeGOnSgepO"
      },
      "execution_count": null,
      "outputs": []
    },
    {
      "cell_type": "code",
      "source": [],
      "metadata": {
        "id": "5jZIZI_RheUX"
      },
      "execution_count": null,
      "outputs": []
    },
    {
      "cell_type": "markdown",
      "source": [
        "#4. Encoding Categorical Data:\n",
        "If you have categorical data that needs to be converted into a numerical format, you can use encoding."
      ],
      "metadata": {
        "id": "x6i60nM4gjfj"
      }
    },
    {
      "cell_type": "code",
      "source": [
        "df_encoded = pd.get_dummies(df, columns=['City'])\n"
      ],
      "metadata": {
        "id": "C3hnSqXiglHI"
      },
      "execution_count": 6,
      "outputs": []
    },
    {
      "cell_type": "code",
      "source": [],
      "metadata": {
        "id": "uCWzo3r5gq_d"
      },
      "execution_count": null,
      "outputs": []
    }
  ]
}